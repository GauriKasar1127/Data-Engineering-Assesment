{
  "nbformat": 4,
  "nbformat_minor": 0,
  "metadata": {
    "colab": {
      "name": "Assesment.ipynb",
      "provenance": []
    },
    "kernelspec": {
      "name": "python3",
      "display_name": "Python 3"
    },
    "language_info": {
      "name": "python"
    }
  },
  "cells": [
    {
      "cell_type": "code",
      "metadata": {
        "colab": {
          "base_uri": "https://localhost:8080/"
        },
        "id": "s5RN5PfG5kF2",
        "outputId": "3dc12a9b-b8e9-4086-fef1-a83905c5782c"
      },
      "source": [
        "import sqlite3\n",
        "import pandas as pd\n",
        "\n",
        "conn = sqlite3.connect('customer_Records.db')\n",
        "print(\"Opened database successfully\");"
      ],
      "execution_count": 1,
      "outputs": [
        {
          "output_type": "stream",
          "text": [
            "Opened database successfully\n"
          ],
          "name": "stdout"
        }
      ]
    },
    {
      "cell_type": "code",
      "metadata": {
        "colab": {
          "base_uri": "https://localhost:8080/"
        },
        "id": "ThwaTT2t5yK7",
        "outputId": "c5fc4612-8fa4-42c7-e98e-eb2f508784f7"
      },
      "source": [
        "# Create Table\n",
        "q1='''CREATE TABLE Customer_record(\n",
        "    Customer_Name VARCHAR(255) NOT NULL,\n",
        "    Customer_Id VARCHAR(255) NOT NULL,\n",
        "    Open_Date DATE NOT NULL,\n",
        "    Last_Consulted_Date DATE,\n",
        "    Vaccination_Type CHAR(5),\n",
        "    Dr_consulted CHAR(255),\n",
        "    State CHAR(5),\n",
        "    Country CHAR(5),\n",
        "    Postal_Code INT,\n",
        "    DOB DATE,\n",
        "    Is_Active CHAR,\n",
        "    PRIMARY KEY(Customer_Name)\n",
        "    )'''\n",
        "\n",
        "conn.execute(q1)"
      ],
      "execution_count": 2,
      "outputs": [
        {
          "output_type": "execute_result",
          "data": {
            "text/plain": [
              "<sqlite3.Cursor at 0x7f080d59bf80>"
            ]
          },
          "metadata": {},
          "execution_count": 2
        }
      ]
    },
    {
      "cell_type": "code",
      "metadata": {
        "colab": {
          "base_uri": "https://localhost:8080/"
        },
        "id": "eIJgRs4D58kk",
        "outputId": "b9358cde-5789-479a-af3e-070c86257051"
      },
      "source": [
        "#insert data\n",
        "conn.execute('''INSERT INTO Customer_record VALUES ('Alex','123457','20101012','20121013','MVD','Paul','SA','USA',42516,'06031987','A')''')\n",
        "conn.execute('''INSERT INTO Customer_record VALUES ('John','123458','20101012','20121013','MVD','Paul','TN','IND',42587,'06031987','A')''')\n",
        "conn.execute('''INSERT INTO Customer_record VALUES ('Mathew','123459','20101012','20121013','MVD','Paul','WAS','PHIL',45289,'06031987','A')''')\n",
        "conn.execute('''INSERT INTO Customer_record VALUES ('Matt','12345','20101012','20121013','MVD','Paul','BOS','NYC',45127,'06031987','A')''')\n",
        "conn.execute('''INSERT INTO Customer_record VALUES ('Jacob','1256','20101012','20121013','MVD','Paul','VIC','AU',49875,'06031987','A')''')"
      ],
      "execution_count": 3,
      "outputs": [
        {
          "output_type": "execute_result",
          "data": {
            "text/plain": [
              "<sqlite3.Cursor at 0x7f080d59bf10>"
            ]
          },
          "metadata": {},
          "execution_count": 3
        }
      ]
    },
    {
      "cell_type": "code",
      "metadata": {
        "id": "ENe4YLhk6egp"
      },
      "source": [
        "# Dataload in CSV\n",
        "query1 = '''select * from Customer_record'''\n",
        "df = pd.read_sql_query(query1,conn)\n",
        "dataframe = pd.DataFrame(df)\n",
        "dataframe.to_csv(\"/content/costumer_records.csv\",sep='|',index=False)"
      ],
      "execution_count": 4,
      "outputs": []
    },
    {
      "cell_type": "code",
      "metadata": {
        "colab": {
          "base_uri": "https://localhost:8080/"
        },
        "id": "k86C6bGX7PrX",
        "outputId": "86812745-853f-44f8-949a-8bb21fd36a6f"
      },
      "source": [
        "df2 = pd.read_csv(\"/content/costumer_records.csv\")\n",
        "print(df2)"
      ],
      "execution_count": 5,
      "outputs": [
        {
          "output_type": "stream",
          "text": [
            "  Customer_Name|Customer_Id|Open_Date|Last_Consulted_Date|Vaccination_Type|Dr_consulted|State|Country|Postal_Code|DOB|Is_Active\n",
            "0  Alex|123457|20101012|20121013|MVD|Paul|SA|USA|...                                                                           \n",
            "1  John|123458|20101012|20121013|MVD|Paul|TN|IND|...                                                                           \n",
            "2  Mathew|123459|20101012|20121013|MVD|Paul|WAS|P...                                                                           \n",
            "3  Matt|12345|20101012|20121013|MVD|Paul|BOS|NYC|...                                                                           \n",
            "4  Jacob|1256|20101012|20121013|MVD|Paul|VIC|AU|4...                                                                           \n"
          ],
          "name": "stdout"
        }
      ]
    },
    {
      "cell_type": "code",
      "metadata": {
        "id": "nN4D9K2j7XJC"
      },
      "source": [
        "# Distinct countries\n",
        "query2='''SELECT DISTINCT Country FROM Customer_record'''\n",
        "Countries = conn.execute(query2)"
      ],
      "execution_count": 6,
      "outputs": []
    },
    {
      "cell_type": "code",
      "metadata": {
        "id": "AneA-Bru744y"
      },
      "source": [
        "dist_con = []\n",
        "for i in Countries:\n",
        "  dist_con.append(i[0])  "
      ],
      "execution_count": 7,
      "outputs": []
    },
    {
      "cell_type": "code",
      "metadata": {
        "id": "Hi9FJNOA8AN0"
      },
      "source": [
        "# Create Table Per Country wise\n",
        "for i in range(len(dist_con)):\n",
        "  conn.execute('CREATE TABLE \"{}\" AS SELECT * FROM Customer_record WHERE Country = \"{}\"'.format(dist_con[i],dist_con[i]))"
      ],
      "execution_count": 8,
      "outputs": []
    },
    {
      "cell_type": "code",
      "metadata": {
        "colab": {
          "base_uri": "https://localhost:8080/"
        },
        "id": "mrtNI0dm8eyK",
        "outputId": "a30e4527-1998-4d36-b999-fe6448ac2dfa"
      },
      "source": [
        "# Example For USA Country\n",
        "country = conn.execute('''select * from USA''')\n",
        "for row in country:\n",
        "  print(row)"
      ],
      "execution_count": 10,
      "outputs": [
        {
          "output_type": "stream",
          "text": [
            "('Alex', '123457', 20101012, 20121013, 'MVD', 'Paul', 'SA', 'USA', 42516, 6031987, 'A')\n"
          ],
          "name": "stdout"
        }
      ]
    },
    {
      "cell_type": "code",
      "metadata": {
        "id": "VCu82Z9Q80aU"
      },
      "source": [
        ""
      ],
      "execution_count": null,
      "outputs": []
    }
  ]
}